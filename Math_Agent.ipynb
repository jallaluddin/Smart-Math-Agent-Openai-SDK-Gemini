{
  "nbformat": 4,
  "nbformat_minor": 0,
  "metadata": {
    "colab": {
      "provenance": [],
      "authorship_tag": "ABX9TyOU45NzELaWKPUdpt8Yupj0",
      "include_colab_link": true
    },
    "kernelspec": {
      "name": "python3",
      "display_name": "Python 3"
    },
    "language_info": {
      "name": "python"
    }
  },
  "cells": [
    {
      "cell_type": "markdown",
      "metadata": {
        "id": "view-in-github",
        "colab_type": "text"
      },
      "source": [
        "<a href=\"https://colab.research.google.com/github/jallaluddin/Smart-Math-Agent-Openai-SDK-Gemini/blob/main/Math_Agent.ipynb\" target=\"_parent\"><img src=\"https://colab.research.google.com/assets/colab-badge.svg\" alt=\"Open In Colab\"/></a>"
      ]
    },
    {
      "cell_type": "code",
      "execution_count": null,
      "metadata": {
        "colab": {
          "base_uri": "https://localhost:8080/"
        },
        "id": "dFOng_1Q7k3p",
        "outputId": "79668426-5d71-4859-9dd4-675ffb24346a"
      },
      "outputs": [
        {
          "output_type": "stream",
          "name": "stdout",
          "text": [
            "\u001b[2K     \u001b[90m━━━━━━━━━━━━━━━━━━━━━━━━━━━━━━━━━━━━━━━━\u001b[0m \u001b[32m61.0/61.0 kB\u001b[0m \u001b[31m3.0 MB/s\u001b[0m eta \u001b[36m0:00:00\u001b[0m\n",
            "\u001b[2K   \u001b[90m━━━━━━━━━━━━━━━━━━━━━━━━━━━━━━━━━━━━━━━━\u001b[0m \u001b[32m164.3/164.3 kB\u001b[0m \u001b[31m8.8 MB/s\u001b[0m eta \u001b[36m0:00:00\u001b[0m\n",
            "\u001b[2K   \u001b[90m━━━━━━━━━━━━━━━━━━━━━━━━━━━━━━━━━━━━━━━━\u001b[0m \u001b[32m137.1/137.1 kB\u001b[0m \u001b[31m10.1 MB/s\u001b[0m eta \u001b[36m0:00:00\u001b[0m\n",
            "\u001b[2K   \u001b[90m━━━━━━━━━━━━━━━━━━━━━━━━━━━━━━━━━━━━━━━━\u001b[0m \u001b[32m158.8/158.8 kB\u001b[0m \u001b[31m11.5 MB/s\u001b[0m eta \u001b[36m0:00:00\u001b[0m\n",
            "\u001b[2K   \u001b[90m━━━━━━━━━━━━━━━━━━━━━━━━━━━━━━━━━━━━━━━━\u001b[0m \u001b[32m45.2/45.2 kB\u001b[0m \u001b[31m2.9 MB/s\u001b[0m eta \u001b[36m0:00:00\u001b[0m\n",
            "\u001b[?25h"
          ]
        }
      ],
      "source": [
        "pip install -Uq openai-agents\n"
      ]
    },
    {
      "cell_type": "code",
      "source": [
        "import nest_asyncio\n",
        "nest_asyncio.apply()\n",
        "\n",
        "from agents import Agent, Runner, AsyncOpenAI, OpenAIChatCompletionsModel, set_tracing_disabled\n",
        "\n",
        "from google.colab import userdata\n",
        "gemini_api_key = userdata.get(\"GEMINI_API_KEY\")\n",
        "\n",
        "# Tracing disabled\n",
        "set_tracing_disabled(disabled=True)\n",
        "\n",
        "# 1. Which LLM Service?\n",
        "external_client: AsyncOpenAI = AsyncOpenAI(\n",
        "    api_key=gemini_api_key,\n",
        "    base_url=\"https://generativelanguage.googleapis.com/v1beta/openai/\",\n",
        ")\n",
        "\n",
        "# 2. Which LLM Model?\n",
        "llm_model: OpenAIChatCompletionsModel = OpenAIChatCompletionsModel(\n",
        "    model=\"gemini-2.5-flash\",\n",
        "    openai_client=external_client\n",
        "    )\n",
        "\n",
        "math_agent: Agent = Agent(name=\"MathAgent\",\n",
        "                     instructions=\"You are a helpful math assistant.\",\n",
        "                     model=llm_model) # gemini-2.5 as agent brain - chat completions\n",
        "\n",
        "result: Runner = Runner.run_sync(math_agent, \"why learn math for AI Agents?\")\n",
        "\n",
        "print(\"\\nCALLING AGENT\\n\")\n",
        "print(result.final_output)"
      ],
      "metadata": {
        "colab": {
          "base_uri": "https://localhost:8080/"
        },
        "id": "e56tsXjs8GjA",
        "outputId": "cb9d3af5-7371-43ac-c3a5-175fedfa1dee"
      },
      "execution_count": null,
      "outputs": [
        {
          "output_type": "stream",
          "name": "stdout",
          "text": [
            "\n",
            "CALLING AGENT\n",
            "\n",
            "Learning mathematics is absolutely fundamental and indispensable for anyone looking to truly understand, build, and advance AI agents. While you can use high-level AI libraries and APIs without deep mathematical knowledge, truly mastering AI, debugging complex models, developing novel architectures, or even just interpreting results critically requires a solid mathematical foundation.\n",
            "\n",
            "Here's why math is crucial for AI agents (and the people who build them):\n",
            "\n",
            "1.  **Linear Algebra: The Language of Data and Neural Networks**\n",
            "    *   **Data Representation:** Data in AI (images, text, audio) is represented as vectors, matrices, and tensors. Understanding these structures is key to manipulating and processing data.\n",
            "    *   **Neural Networks:** Every layer in a neural network involves matrix multiplications and vector additions. Understanding how weights, biases, and activations propagate through the network is pure linear algebra.\n",
            "    *   **Embeddings:** Word embeddings (like Word2Vec, GloVe), image embeddings, etc., are vector representations of complex data. Linear algebra helps understand their properties and how they capture semantic relationships.\n",
            "    *   **Dimensionality Reduction:** Techniques like PCA (Principal Component Analysis) are heavily rooted in eigenvalues and eigenvectors from linear algebra.\n",
            "\n",
            "2.  **Calculus (Differential & Integral): The Engine of Learning**\n",
            "    *   **Optimization:** The core of most AI learning algorithms (especially deep learning) is minimizing a \"loss function\" (e.g., mean squared error, cross-entropy). This is achieved using optimization algorithms like Gradient Descent.\n",
            "    *   **Gradients:** Derivatives are used to calculate the \"gradient\" of the loss function, which tells us the direction of the steepest ascent/descent. This is how neural networks learn to adjust their weights during backpropagation.\n",
            "    *   **Backpropagation:** This is the cornerstone algorithm for training neural networks. It's essentially a sophisticated application of the chain rule from calculus.\n",
            "    *   **Activation Functions:** Many activation functions (Sigmoid, ReLU, Tanh) have specific derivative properties that are crucial for efficient learning.\n",
            "\n",
            "3.  **Probability and Statistics: Handling Uncertainty and Making Sense of Data**\n",
            "    *   **Understanding Data:** Statistical concepts (mean, variance, standard deviation, distributions) help you understand the characteristics of your dataset.\n",
            "    *   **Uncertainty:** AI agents often operate in uncertain environments. Probability theory provides the framework for reasoning under uncertainty (e.g., Bayesian networks, Markov models).\n",
            "    *   **Machine Learning Models:** Many ML models are inherently probabilistic (e.g., Logistic Regression, Naive Bayes, Gaussian Mixture Models). Understanding the underlying probabilities is essential.\n",
            "    *   **Evaluation Metrics:** Metrics like accuracy, precision, recall, F1-score, RMSE, ROC curves, and AUC are all statistical measures used to evaluate model performance.\n",
            "    *   **Hypothesis Testing & Confidence Intervals:** Used for comparing models, understanding the significance of results, and ensuring robustness.\n",
            "    *   **Generative Models:** Many advanced AI models (like GANs and VAEs) are built on probabilistic principles to generate new data.\n",
            "\n",
            "4.  **Discrete Mathematics: Logic, Algorithms, and Structure**\n",
            "    *   **Logic:** Foundation for symbolic AI, knowledge representation, and reasoning systems. Important for understanding how agents make decisions based on rules.\n",
            "    *   **Graph Theory:** Used in pathfinding algorithms (e.g., A* search in game AI), social network analysis, knowledge graphs, and certain neural network architectures (Graph Neural Networks).\n",
            "    *   **Algorithms & Complexity:** Understanding the efficiency (time and space complexity) of algorithms (e.g., sorting, searching, tree traversals) is vital for building performant AI systems.\n",
            "    *   **Decision Trees:** A classic ML algorithm whose structure directly relates to discrete math concepts.\n",
            "\n",
            "5.  **Optimization Theory: The Science of Making Good Decisions**\n",
            "    *   While closely tied to calculus, optimization theory is a field in itself, dealing with methods to find the best possible solution to a problem given certain constraints.\n",
            "    *   Beyond basic gradient descent, it covers advanced optimizers (Adam, RMSprop), convex optimization, linear programming, etc., which are critical for training complex AI models efficiently and effectively.\n",
            "\n",
            "6.  **Information Theory: Measuring and Managing Information**\n",
            "    *   **Entropy:** Measures the uncertainty or randomness of a variable. Crucial for understanding information gain in decision trees and for designing efficient codes.\n",
            "    *   **Cross-Entropy:** A common loss function used in classification tasks, measuring the difference between two probability distributions.\n",
            "    *   **Kullback-Leibler (KL) Divergence:** Measures how one probability distribution diverges from a second, expected distribution. Used in variational autoencoders (VAEs) and other generative models.\n",
            "\n",
            "**In summary, learning math for AI is not about memorizing formulas; it's about:**\n",
            "*   **Understanding the \"Why\":** Knowing *why* certain algorithms work, not just *how* to use them.\n",
            "*   **Debugging and Troubleshooting:** Being able to diagnose issues beyond just error messages (e.g., understanding vanishing/exploding gradients).\n",
            "*   **Developing New Models:** Innovating requires a deep understanding of the underlying principles.\n",
            "*   **Interpreting Results:** Critically evaluating model performance and understanding its limitations.\n",
            "*   **Identifying Biases and Fairness Issues:** Often requires statistical rigor.\n",
            "*   **Efficient Implementation:** Optimizing algorithms and data structures.\n",
            "\n",
            "Without a strong mathematical foundation, AI often remains a \"black box,\" limiting one's ability to truly master the field and contribute to its advancement.\n"
          ]
        }
      ]
    }
  ]
}